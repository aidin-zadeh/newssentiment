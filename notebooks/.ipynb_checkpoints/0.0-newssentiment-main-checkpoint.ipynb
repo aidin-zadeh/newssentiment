{
 "cells": [
  {
   "cell_type": "code",
   "execution_count": null,
   "metadata": {},
   "outputs": [],
   "source": []
  },
  {
   "cell_type": "code",
   "execution_count": 1,
   "metadata": {},
   "outputs": [],
   "source": [
    "import os, sys, inspect\n",
    "import time\n",
    "\n",
    "\n",
    "from newssentiment import Sentiment \n",
    "# add parent dir to system dir\n",
    "currdir = os.path.dirname(os.path.abspath(inspect.getfile(inspect.currentframe())))\n",
    "rootdir = os.path.dirname(currdir)\n",
    "sys.path.insert(0, rootdir)\n",
    "\n",
    "\n"
   ]
  },
  {
   "cell_type": "code",
   "execution_count": 2,
   "metadata": {},
   "outputs": [],
   "source": [
    "# set number of query tweets\n",
    "n_tweets = 100\n",
    "# set query outlets\n",
    "outlets = [\"@CNN\", \"@BBC\", \"@CBS\", \"@FoxNews\", \"@nytimes\"] \n",
    "# set path to save figures\n",
    "path_fig = os.path.join(rootdir, \"reports\", \"figures\")\n",
    "path_log = os.path.join(rootdir, \"reports\", \"logs\")\n",
    "# set true to save figures\n",
    "save_fig = True\n",
    "# set true to save results to csv\n",
    "save_csv = True\n",
    "# set true to log print\n",
    "verbose = True\n"
   ]
  },
  {
   "cell_type": "code",
   "execution_count": 3,
   "metadata": {},
   "outputs": [],
   "source": [
    "# get/format current time\n",
    "currtime = time.gmtime()\n",
    "currtimestr = time.strftime(\"'%Y-%m-%d %H:%M (UTC)'\", currtime)\n",
    "\n"
   ]
  },
  {
   "cell_type": "code",
   "execution_count": 4,
   "metadata": {},
   "outputs": [],
   "source": [
    "sentimet = Sentiment(n_tweets=n_tweets)\n"
   ]
  },
  {
   "cell_type": "code",
   "execution_count": null,
   "metadata": {},
   "outputs": [],
   "source": [
    "df = sentimet.get_scores(outlets=outlets)"
   ]
  },
  {
   "cell_type": "code",
   "execution_count": null,
   "metadata": {},
   "outputs": [],
   "source": [
    "\n",
    "\n"
   ]
  },
  {
   "cell_type": "code",
   "execution_count": null,
   "metadata": {},
   "outputs": [],
   "source": []
  }
 ],
 "metadata": {
  "kernelspec": {
   "display_name": "Python 3",
   "language": "python",
   "name": "python3"
  },
  "language_info": {
   "codemirror_mode": {
    "name": "ipython",
    "version": 3
   },
   "file_extension": ".py",
   "mimetype": "text/x-python",
   "name": "python",
   "nbconvert_exporter": "python",
   "pygments_lexer": "ipython3",
   "version": "3.6.5"
  }
 },
 "nbformat": 4,
 "nbformat_minor": 1
}
